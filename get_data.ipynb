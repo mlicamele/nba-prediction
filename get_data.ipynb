{
 "cells": [
  {
   "cell_type": "markdown",
   "metadata": {},
   "source": [
    "Setup"
   ]
  },
  {
   "cell_type": "code",
   "execution_count": 2,
   "metadata": {},
   "outputs": [],
   "source": [
    "import os\n",
    "from bs4 import BeautifulSoup\n",
    "from playwright.async_api import async_playwright, TimeoutError as PlaywrightTimeout\n",
    "import time"
   ]
  },
  {
   "cell_type": "code",
   "execution_count": 3,
   "metadata": {},
   "outputs": [],
   "source": [
    "SEASONS = list(range(2016,2024))\n",
    "WEBSITE = f\"https://www.basketball-reference.com\""
   ]
  },
  {
   "cell_type": "code",
   "execution_count": 4,
   "metadata": {},
   "outputs": [],
   "source": [
    "DATA_DIR = \"data\"\n",
    "STANDINGS_DIR = os.path.join(DATA_DIR, \"standings\")\n",
    "SCORES_DIR = os.path.join(DATA_DIR, \"scores\")"
   ]
  },
  {
   "cell_type": "markdown",
   "metadata": {},
   "source": [
    "Extracting HTML"
   ]
  },
  {
   "cell_type": "code",
   "execution_count": 5,
   "metadata": {},
   "outputs": [],
   "source": [
    "async def get_html(url, selector, start_time, retries = 3, sleep = 5):\n",
    "    html = None\n",
    "    for i in range(0, retries):\n",
    "        try:\n",
    "            async with async_playwright() as p:\n",
    "                browser = await p.chromium.launch()\n",
    "                page = await browser.new_page()\n",
    "                await page.goto(url)\n",
    "                print(await page.title())\n",
    "                html = await page.inner_html(selector)\n",
    "        except PlaywrightTimeout:\n",
    "            cur_time = int(time.time()) - start_time\n",
    "            cur_hrs = f\"{int(cur_time / 3600)} hrs\"\n",
    "            cur_mins = f\"{int(cur_time % 3600 / 60)} mins\"\n",
    "            cur_secs = f\"{int(cur_time % 60)} secs\"\n",
    "            print(f\"Timeout error on {url} at {cur_hrs} {cur_mins} {cur_secs}\")\n",
    "            continue\n",
    "        else:\n",
    "            break\n",
    "    \n",
    "    cur_time = int(time.time()) - start_time\n",
    "    cur_hrs = f\"{int(cur_time / 3600)} hrs\"\n",
    "    cur_mins = f\"{int(cur_time % 3600 / 60)} mins\"\n",
    "    cur_secs = f\"{int(cur_time % 60)} secs\"\n",
    "\n",
    "    print(f\"Take a break at {cur_hrs} {cur_mins} {cur_secs}\")\n",
    "    print()\n",
    "    time.sleep(sleep)\n",
    "    return html\n"
   ]
  },
  {
   "cell_type": "code",
   "execution_count": 6,
   "metadata": {},
   "outputs": [],
   "source": [
    "async def scrape_season(season, start_time):\n",
    "    url = f\"{WEBSITE}/leagues/NBA_{season}_games.html\"\n",
    "\n",
    "    html = await get_html(url, \"#content .filter\", start_time)\n",
    "\n",
    "    if html is None:\n",
    "        return\n",
    "    \n",
    "    soup = BeautifulSoup(html)\n",
    "    \n",
    "    links = soup.findAll(\"a\")\n",
    "    href = [l[\"href\"] for l in links]\n",
    "    standings_pages = [f\"{WEBSITE}{l}\" for l in href]\n",
    "    for url in standings_pages:\n",
    "        save_path = os.path.join(STANDINGS_DIR, url.split(\"/\")[-1])\n",
    "        if os.path.exists(save_path):\n",
    "            continue\n",
    "\n",
    "        html = await get_html(url, \"#all_schedule\", start_time)\n",
    "        with open(save_path, \"w+\") as f:\n",
    "            f.write(html)"
   ]
  },
  {
   "cell_type": "code",
   "execution_count": 7,
   "metadata": {},
   "outputs": [
    {
     "name": "stdout",
     "output_type": "stream",
     "text": [
      "2015-16 NBA Schedule | Basketball-Reference.com\n",
      "Take a break at 0 hrs 0 mins 3 secs\n",
      "\n",
      "2016-17 NBA Schedule | Basketball-Reference.com\n",
      "Take a break at 0 hrs 0 mins 10 secs\n",
      "\n",
      "2017-18 NBA Schedule | Basketball-Reference.com\n",
      "Take a break at 0 hrs 0 mins 34 secs\n",
      "\n",
      "2018-19 NBA Schedule | Basketball-Reference.com\n",
      "Take a break at 0 hrs 0 mins 41 secs\n",
      "\n",
      "Timeout error on https://www.basketball-reference.com/leagues/NBA_2020_games.html at 0 hrs 1 mins 17 secs\n",
      "2019-20 NBA Schedule | Basketball-Reference.com\n",
      "Take a break at 0 hrs 1 mins 31 secs\n",
      "\n",
      "Timeout error on https://www.basketball-reference.com/leagues/NBA_2021_games.html at 0 hrs 2 mins 7 secs\n",
      "2020-21 NBA Schedule | Basketball-Reference.com\n",
      "Take a break at 0 hrs 2 mins 17 secs\n",
      "\n",
      "2021-22 NBA Schedule | Basketball-Reference.com\n",
      "Take a break at 0 hrs 2 mins 23 secs\n",
      "\n",
      "2022-23 NBA Schedule | Basketball-Reference.com\n",
      "Take a break at 0 hrs 2 mins 30 secs\n",
      "\n",
      "Done\n"
     ]
    }
   ],
   "source": [
    "start_time = int(time.time())\n",
    "for season in SEASONS:\n",
    "    await scrape_season(season, start_time)\n",
    "print(f\"Done\")"
   ]
  },
  {
   "cell_type": "markdown",
   "metadata": {},
   "source": [
    "Get Box Scores"
   ]
  },
  {
   "cell_type": "code",
   "execution_count": 8,
   "metadata": {},
   "outputs": [
    {
     "data": {
      "text/plain": [
       "['NBA_2022_games-october.html',\n",
       " 'NBA_2021_games-june.html',\n",
       " 'NBA_2020_games-march.html',\n",
       " 'NBA_2020_games-september.html',\n",
       " 'NBA_2020_games-january.html',\n",
       " 'NBA_2020_games-august.html',\n",
       " 'NBA_2023_games-may.html',\n",
       " 'NBA_2019_games-april.html',\n",
       " 'NBA_2023_games-april.html',\n",
       " 'NBA_2022_games-may.html',\n",
       " 'NBA_2019_games-february.html',\n",
       " 'NBA_2018_games-february.html',\n",
       " 'NBA_2023_games-january.html',\n",
       " 'NBA_2016_games-april.html',\n",
       " 'NBA_2021_games-march.html',\n",
       " 'NBA_2018_games-january.html',\n",
       " 'NBA_2017_games-february.html',\n",
       " 'NBA_2016_games-february.html',\n",
       " 'NBA_2017_games-october.html',\n",
       " 'NBA_2018_games-april.html',\n",
       " 'NBA_2020_games-december.html',\n",
       " 'NBA_2019_games-october.html',\n",
       " 'NBA_2020_games-november.html',\n",
       " 'NBA_2021_games-may.html',\n",
       " 'NBA_2021_games-december.html',\n",
       " 'NBA_2022_games-april.html',\n",
       " 'NBA_2022_games-december.html',\n",
       " 'NBA_2023_games-november.html',\n",
       " 'NBA_2023_games-december.html',\n",
       " 'NBA_2017_games-april.html',\n",
       " 'NBA_2022_games-november.html',\n",
       " 'NBA_2016_games-january.html',\n",
       " 'NBA_2018_games-october.html',\n",
       " 'NBA_2017_games-march.html',\n",
       " 'NBA_2021_games-february.html',\n",
       " 'NBA_2020_games-february.html',\n",
       " 'NBA_2017_games-june.html',\n",
       " 'NBA_2022_games-march.html',\n",
       " 'NBA_2023_games-february.html',\n",
       " 'NBA_2018_games-june.html',\n",
       " 'NBA_2017_games-january.html',\n",
       " 'NBA_2022_games-february.html',\n",
       " 'NBA_2017_games-november.html',\n",
       " 'NBA_2016_games-december.html',\n",
       " 'NBA_2021_games-july.html',\n",
       " 'NBA_2016_games-november.html',\n",
       " 'NBA_2022_games-june.html',\n",
       " 'NBA_2018_games-march.html',\n",
       " 'NBA_2017_games-december.html',\n",
       " 'NBA_2019_games-january.html',\n",
       " 'NBA_2016_games-october.html',\n",
       " 'NBA_2021_games-april.html',\n",
       " 'NBA_2019_games-november.html',\n",
       " 'NBA_2020_games-july.html',\n",
       " 'NBA_2018_games-december.html',\n",
       " 'NBA_2022_games-january.html',\n",
       " 'NBA_2018_games-november.html',\n",
       " 'NBA_2016_games-march.html',\n",
       " 'NBA_2019_games-december.html',\n",
       " 'NBA_2023_games-june.html',\n",
       " 'NBA_2019_games-may.html',\n",
       " 'NBA_2020_games-october.html',\n",
       " 'NBA_2016_games-may.html',\n",
       " 'NBA_2023_games-march.html',\n",
       " 'NBA_2019_games-march.html',\n",
       " 'NBA_2017_games-may.html',\n",
       " 'NBA_2016_games-june.html',\n",
       " 'NBA_2023_games-october.html',\n",
       " 'NBA_2019_games-june.html',\n",
       " 'NBA_2018_games-may.html',\n",
       " 'NBA_2021_games-january.html']"
      ]
     },
     "execution_count": 8,
     "metadata": {},
     "output_type": "execute_result"
    }
   ],
   "source": [
    "standings_files = os.listdir(STANDINGS_DIR)\n",
    "standings_files = [s for s in standings_files if \".html\" in s]\n",
    "standings_files"
   ]
  },
  {
   "cell_type": "code",
   "execution_count": 9,
   "metadata": {},
   "outputs": [],
   "source": [
    "async def scrape_game(standings_file, start_time):\n",
    "    with open(standings_file, \"r\") as f:\n",
    "        html = f.read()\n",
    "    \n",
    "    soup = BeautifulSoup(html)\n",
    "    links = soup.find_all(\"a\")\n",
    "    hrefs = [l.get(\"href\") for l in links]\n",
    "    box_scores = [l for l in hrefs if l and \"boxscore\" in l and \".html\" in l]\n",
    "    box_scores_links = [f\"{WEBSITE}{l}\" for l in box_scores]\n",
    "\n",
    "    for url in box_scores_links:\n",
    "        save_path = os.path.join(SCORES_DIR, url.split(\"/\")[-1])\n",
    "        if os.path.exists(save_path):\n",
    "            continue\n",
    "\n",
    "        html = await get_html(url, \"#content\", start_time)\n",
    "        if not html:\n",
    "            continue\n",
    "        \n",
    "        with open(save_path, \"w+\") as f:\n",
    "            f.write(html)\n"
   ]
  },
  {
   "cell_type": "code",
   "execution_count": 10,
   "metadata": {},
   "outputs": [
    {
     "name": "stdout",
     "output_type": "stream",
     "text": [
      "Done\n"
     ]
    }
   ],
   "source": [
    "start_time = int(time.time())\n",
    "for f in standings_files:\n",
    "    file_path = os.path.join(STANDINGS_DIR, f)\n",
    "    await scrape_game(file_path, start_time)\n",
    "print(f\"Done\")"
   ]
  }
 ],
 "metadata": {
  "kernelspec": {
   "display_name": "Python 3",
   "language": "python",
   "name": "python3"
  },
  "language_info": {
   "codemirror_mode": {
    "name": "ipython",
    "version": 3
   },
   "file_extension": ".py",
   "mimetype": "text/x-python",
   "name": "python",
   "nbconvert_exporter": "python",
   "pygments_lexer": "ipython3",
   "version": "3.12.2"
  }
 },
 "nbformat": 4,
 "nbformat_minor": 2
}
